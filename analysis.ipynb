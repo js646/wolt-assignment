{
 "metadata": {
  "kernelspec": {
   "name": "python3",
   "display_name": "Python 3 (ipykernel)",
   "language": "python"
  },
  "language_info": {
   "codemirror_mode": {
    "name": "python",
    "version": 3
   },
   "file_extension": ".py",
   "mimetype": "text/x-python",
   "name": "python",
   "nbconvert_exporter": "python",
   "pygments_lexer": "ipython3",
   "version": "3.8"
  }
 },
 "nbformat_minor": 5,
 "nbformat": 4,
 "cells": [
  {
   "id": "0689f383-52b0-4a62-9c21-01c23ded8399",
   "cell_type": "code",
   "source": [
    "import pandas as pd\n",
    "import re\n",
    "\n",
    "pd.set_option('display.max_rows', 10)\n",
    "pd.set_option('display.max_columns', 5)\n",
    "pd.set_option('display.width', 1280)\n",
    "\n",
    "if __name__ == \"__main__\":\n",
    "    df = pd.read_csv('Data Processing Specialist Dataset.csv')\n",
    "    \n",
    "    print(df[['Name ', 'Allergens ']])"
   ],
   "metadata": {
    "trusted": true,
    "tags": [],
    "editable": true,
    "slideshow": {
     "slide_type": ""
    },
    "ExecuteTime": {
     "end_time": "2025-05-11T19:17:29.272012Z",
     "start_time": "2025-05-11T19:17:28.330158Z"
    }
   },
   "outputs": [
    {
     "name": "stdout",
     "output_type": "stream",
     "text": [
      "                                          Name                     Allergens \n",
      "0                              Noël, Grimbergen               Gluten, barley.\n",
      "1                Blågårds Pilsner 5.1% organic.                        Gluten\n",
      "2                          Blanche 4.5%, Harboe                        Gluten\n",
      "3     Golden Naked Christmas Ale 7.5%, Jacobsen  Gluten, barley, oats, wheat.\n",
      "4              Donker Winter Ale 8.9%, Jacobsen        Gluten, barley, wheat.\n",
      "...                                         ...                           ...\n",
      "1994       Vegetable Fund Fond \"De Chef\", Knorr                        Celery\n",
      "1995                     Vegetable broth, Knorr                              \n",
      "1996                    Bouillon chicken, Knorr                              \n",
      "1997                          Beef broth, Knorr                              \n",
      "1998                          Pork broth, Knorr                       Celery.\n",
      "\n",
      "[1999 rows x 2 columns]\n"
     ]
    }
   ],
   "execution_count": 1
  },
  {
   "id": "8f16474d-8720-46e3-9129-184ef8fb2891",
   "cell_type": "code",
   "source": [
    "    # normalize allergens and extract them as a list\n",
    "    def extract_allergens(entry):\n",
    "        if pd.isna(entry) or entry.strip() == \"\":\n",
    "            return []\n",
    "        entry = entry.lower()\n",
    "        entry = re.sub(r\"[.]\", \"\", entry)\n",
    "        entry = \"\" if entry == \"-\" else entry\n",
    "        parts = re.split(r\",\", entry)\n",
    "        return [p.strip() for p in parts if p.strip()]\n",
    "    \n",
    "    df['Allergen_List'] = df['Allergens '].apply(extract_allergens)\n",
    "\n",
    "    print(df[['Name ', 'Allergens ', 'Allergen_List']])"
   ],
   "metadata": {
    "trusted": true,
    "ExecuteTime": {
     "end_time": "2025-05-11T19:17:29.319248Z",
     "start_time": "2025-05-11T19:17:29.278032Z"
    }
   },
   "outputs": [
    {
     "name": "stdout",
     "output_type": "stream",
     "text": [
      "                                          Name                     Allergens                   Allergen_List\n",
      "0                              Noël, Grimbergen               Gluten, barley.               [gluten, barley]\n",
      "1                Blågårds Pilsner 5.1% organic.                        Gluten                       [gluten]\n",
      "2                          Blanche 4.5%, Harboe                        Gluten                       [gluten]\n",
      "3     Golden Naked Christmas Ale 7.5%, Jacobsen  Gluten, barley, oats, wheat.  [gluten, barley, oats, wheat]\n",
      "4              Donker Winter Ale 8.9%, Jacobsen        Gluten, barley, wheat.        [gluten, barley, wheat]\n",
      "...                                         ...                           ...                            ...\n",
      "1994       Vegetable Fund Fond \"De Chef\", Knorr                        Celery                       [celery]\n",
      "1995                     Vegetable broth, Knorr                                                           []\n",
      "1996                    Bouillon chicken, Knorr                                                           []\n",
      "1997                          Beef broth, Knorr                                                           []\n",
      "1998                          Pork broth, Knorr                       Celery.                       [celery]\n",
      "\n",
      "[1999 rows x 3 columns]\n"
     ]
    }
   ],
   "execution_count": 2
  },
  {
   "id": "21715a19-0671-465f-b3be-5bf7941d7926",
   "cell_type": "code",
   "source": [
    "    # explode table, so that each row contains exactly 1 allergen in \"Allergen_List\"\n",
    "    exploded = df.explode('Allergen_List')\n",
    "\n",
    "    print(exploded[['Name ', 'Allergens ', 'Allergen_List']])"
   ],
   "metadata": {
    "trusted": true,
    "ExecuteTime": {
     "end_time": "2025-05-11T19:17:29.348299Z",
     "start_time": "2025-05-11T19:17:29.322245Z"
    }
   },
   "outputs": [
    {
     "name": "stdout",
     "output_type": "stream",
     "text": [
      "                                          Name                     Allergens  Allergen_List\n",
      "0                              Noël, Grimbergen               Gluten, barley.        gluten\n",
      "0                              Noël, Grimbergen               Gluten, barley.        barley\n",
      "1                Blågårds Pilsner 5.1% organic.                        Gluten        gluten\n",
      "2                          Blanche 4.5%, Harboe                        Gluten        gluten\n",
      "3     Golden Naked Christmas Ale 7.5%, Jacobsen  Gluten, barley, oats, wheat.        gluten\n",
      "...                                         ...                           ...           ...\n",
      "1994       Vegetable Fund Fond \"De Chef\", Knorr                        Celery        celery\n",
      "1995                     Vegetable broth, Knorr                                         NaN\n",
      "1996                    Bouillon chicken, Knorr                                         NaN\n",
      "1997                          Beef broth, Knorr                                         NaN\n",
      "1998                          Pork broth, Knorr                       Celery.        celery\n",
      "\n",
      "[3487 rows x 3 columns]\n"
     ]
    }
   ],
   "execution_count": 3
  },
  {
   "id": "3b47b075-91b0-4941-b5da-88c471dda75a",
   "cell_type": "code",
   "source": [
    "    # group by allergen in \"Allergen_List\" and aggregate all corresponding products into a list\n",
    "    allergen_groups = exploded.groupby('Allergen_List').agg({\n",
    "        'Name ': lambda x: list(pd.Series(x).dropna().unique()),  # Liste der Produktnamen\n",
    "    })\n",
    "\n",
    "    print(allergen_groups)"
   ],
   "metadata": {
    "trusted": true,
    "ExecuteTime": {
     "end_time": "2025-05-11T19:17:29.415180Z",
     "start_time": "2025-05-11T19:17:29.351320Z"
    }
   },
   "outputs": [
    {
     "name": "stdout",
     "output_type": "stream",
     "text": [
      "                                                                                Name \n",
      "Allergen_List                                                                        \n",
      "all nuts                            [Gift pack with chocolate, Perto, Gift pack wi...\n",
      "allergens be-kind bar: peanuts          [Snickers + Be-Kind bar with sea salt & nuts]\n",
      "allergens snickers creamy: peanuts  [Snickers Creamy + M&M's Peanuts + Skittles Fr...\n",
      "almond                              [Almond eggs, Anthon Berg, Marzipan eggs with ...\n",
      "almonds                             [Cardamom snails mini, Pågen, Roulade with mar...\n",
      "...                                                                               ...\n",
      "wheat (gluten-containing grain)     [Ich Bin Blueberry Berliner Weisse 3.7%, Mikke...\n",
      "wheat and gluten-containing grains  [Porridge balls, Kohberg, Protein balls, Kohbe...\n",
      "wheat and its derivatives                     [Brooklyn Pulp Art Hazy IPA 6.0% (can)]\n",
      "wheat flour                             [Dessert pancakes, First Price, Marabou Oreo]\n",
      "wheat malt                          [Lumberjack IPA 4.7%, Skovlyst, Lumberjack Bla...\n",
      "\n",
      "[86 rows x 1 columns]\n"
     ]
    }
   ],
   "execution_count": 4
  },
  {
   "id": "f02b2cef-337f-4321-a1f4-1050b01e7cd4",
   "cell_type": "code",
   "source": [
    "    # get total product count to calculate the percentage\n",
    "    total_products = df['Name '].count()\n",
    "\n",
    "    print(\"total products: \", total_products)"
   ],
   "metadata": {
    "trusted": true,
    "ExecuteTime": {
     "end_time": "2025-05-11T19:17:29.428163Z",
     "start_time": "2025-05-11T19:17:29.419205Z"
    }
   },
   "outputs": [
    {
     "name": "stdout",
     "output_type": "stream",
     "text": [
      "total products:  1999\n"
     ]
    }
   ],
   "execution_count": 5
  },
  {
   "id": "b21b1f3a-24e8-47c9-a767-a0f0c2a70ff9",
   "cell_type": "code",
   "source": [
    "    # add column for product count into allergen groups\n",
    "    allergen_groups['Count'] = allergen_groups['Name '].apply(len)\n",
    "\n",
    "    print(allergen_groups)"
   ],
   "metadata": {
    "trusted": true,
    "ExecuteTime": {
     "end_time": "2025-05-11T19:17:29.457877Z",
     "start_time": "2025-05-11T19:17:29.430165Z"
    }
   },
   "outputs": [
    {
     "name": "stdout",
     "output_type": "stream",
     "text": [
      "                                                                                Name   Count\n",
      "Allergen_List                                                                               \n",
      "all nuts                            [Gift pack with chocolate, Perto, Gift pack wi...      4\n",
      "allergens be-kind bar: peanuts          [Snickers + Be-Kind bar with sea salt & nuts]      1\n",
      "allergens snickers creamy: peanuts  [Snickers Creamy + M&M's Peanuts + Skittles Fr...      1\n",
      "almond                              [Almond eggs, Anthon Berg, Marzipan eggs with ...      3\n",
      "almonds                             [Cardamom snails mini, Pågen, Roulade with mar...     82\n",
      "...                                                                               ...    ...\n",
      "wheat (gluten-containing grain)     [Ich Bin Blueberry Berliner Weisse 3.7%, Mikke...      2\n",
      "wheat and gluten-containing grains  [Porridge balls, Kohberg, Protein balls, Kohbe...      9\n",
      "wheat and its derivatives                     [Brooklyn Pulp Art Hazy IPA 6.0% (can)]      1\n",
      "wheat flour                             [Dessert pancakes, First Price, Marabou Oreo]      2\n",
      "wheat malt                          [Lumberjack IPA 4.7%, Skovlyst, Lumberjack Bla...      5\n",
      "\n",
      "[86 rows x 2 columns]\n"
     ]
    }
   ],
   "execution_count": 6
  },
  {
   "id": "a13ba52e-94c5-4be6-843d-71a39f41c97e",
   "cell_type": "code",
   "source": [
    "    # calculate percentage\n",
    "    allergen_groups['% Share'] = (allergen_groups['Count'] / total_products * 100).round(1)\n",
    "\n",
    "    print(allergen_groups)"
   ],
   "metadata": {
    "trusted": true,
    "ExecuteTime": {
     "end_time": "2025-05-11T19:17:29.476870Z",
     "start_time": "2025-05-11T19:17:29.460901Z"
    }
   },
   "outputs": [
    {
     "name": "stdout",
     "output_type": "stream",
     "text": [
      "                                                                                Name   Count  % Share\n",
      "Allergen_List                                                                                        \n",
      "all nuts                            [Gift pack with chocolate, Perto, Gift pack wi...      4      0.2\n",
      "allergens be-kind bar: peanuts          [Snickers + Be-Kind bar with sea salt & nuts]      1      0.1\n",
      "allergens snickers creamy: peanuts  [Snickers Creamy + M&M's Peanuts + Skittles Fr...      1      0.1\n",
      "almond                              [Almond eggs, Anthon Berg, Marzipan eggs with ...      3      0.2\n",
      "almonds                             [Cardamom snails mini, Pågen, Roulade with mar...     82      4.1\n",
      "...                                                                               ...    ...      ...\n",
      "wheat (gluten-containing grain)     [Ich Bin Blueberry Berliner Weisse 3.7%, Mikke...      2      0.1\n",
      "wheat and gluten-containing grains  [Porridge balls, Kohberg, Protein balls, Kohbe...      9      0.5\n",
      "wheat and its derivatives                     [Brooklyn Pulp Art Hazy IPA 6.0% (can)]      1      0.1\n",
      "wheat flour                             [Dessert pancakes, First Price, Marabou Oreo]      2      0.1\n",
      "wheat malt                          [Lumberjack IPA 4.7%, Skovlyst, Lumberjack Bla...      5      0.3\n",
      "\n",
      "[86 rows x 3 columns]\n"
     ]
    }
   ],
   "execution_count": 7
  },
  {
   "id": "876f450e-5518-422f-acc1-e1ccd5c6c462",
   "cell_type": "code",
   "source": [
    "    # rename and sort\n",
    "    allergen_groups = allergen_groups.reset_index().rename(columns={'Allergen_List': 'Allergen', 'Name ': 'Products'}).sort_values(by='Count', ascending=False)\n",
    "\n",
    "    print(allergen_groups)"
   ],
   "metadata": {
    "trusted": true,
    "ExecuteTime": {
     "end_time": "2025-05-11T19:17:29.503695Z",
     "start_time": "2025-05-11T19:17:29.479890Z"
    }
   },
   "outputs": [
    {
     "name": "stdout",
     "output_type": "stream",
     "text": [
      "                          Allergen                                           Products  Count  % Share\n",
      "30                          gluten  [Noël, Grimbergen, Blågårds Pilsner 5.1% organ...    562     28.1\n",
      "45                            milk  [Bailey's 17%, Llama puffs with cheese & onion...    424     21.2\n",
      "67                             soy  [Subsidized leafing from 6 months. Eco. Arla b...    230     11.5\n",
      "80                           wheat  [Golden Naked Christmas Ale 7.5%, Jacobsen, Do...    147      7.4\n",
      "25                            eggs  [Tea bun, Carrot bun with sunflower seeds, ⭐️ ...    131      6.6\n",
      "..                             ...                                                ...    ...      ...\n",
      "72                         spelled  [Elderflower Session IPA 5.0% organic. Nørrebr...      1      0.1\n",
      "75                        sulphite                                  [Bia Saigon 4.9%]      1      0.1\n",
      "70  soya\\nallergens snickers: milk      [Snickers + Be-Kind bar with sea salt & nuts]      1      0.1\n",
      "78      tree nuts and sesame seeds  [Waffle tubes with cocoa and hazelnut cream, F...      1      0.1\n",
      "83       wheat and its derivatives            [Brooklyn Pulp Art Hazy IPA 6.0% (can)]      1      0.1\n",
      "\n",
      "[86 rows x 4 columns]\n"
     ]
    }
   ],
   "execution_count": 8
  }
 ]
}
