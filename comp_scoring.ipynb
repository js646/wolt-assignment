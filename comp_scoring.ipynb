{
 "metadata": {
  "kernelspec": {
   "name": "python3",
   "display_name": "Python 3 (ipykernel)",
   "language": "python"
  },
  "language_info": {
   "codemirror_mode": {
    "name": "python",
    "version": 3
   },
   "file_extension": ".py",
   "mimetype": "text/x-python",
   "name": "python",
   "nbconvert_exporter": "python",
   "pygments_lexer": "ipython3",
   "version": "3.8"
  }
 },
 "nbformat_minor": 5,
 "nbformat": 4,
 "cells": [
  {
   "id": "0689f383-52b0-4a62-9c21-01c23ded8399",
   "cell_type": "code",
   "source": [
    "import pandas as pd\n",
    "\n",
    "pd.set_option('display.max_columns', 2)\n",
    "pd.set_option('display.min_rows', 10)\n",
    "pd.set_option('display.max_rows', 10)\n",
    "\n",
    "if __name__ == \"__main__\":\n",
    "    df = pd.read_csv('Data Processing Specialist Dataset.csv')\n",
    "    \n",
    "    print(df)"
   ],
   "metadata": {
    "trusted": true,
    "tags": [],
    "editable": true,
    "slideshow": {
     "slide_type": ""
    },
    "ExecuteTime": {
     "end_time": "2025-05-11T19:20:23.298948Z",
     "start_time": "2025-05-11T19:20:23.227553Z"
    }
   },
   "outputs": [
    {
     "name": "stdout",
     "output_type": "stream",
     "text": [
      "                                          Name   ...  Producer Information\n",
      "0                              Noël, Grimbergen  ...                   NaN\n",
      "1                Blågårds Pilsner 5.1% organic.  ...                   NaN\n",
      "2                          Blanche 4.5%, Harboe  ...                   NaN\n",
      "3     Golden Naked Christmas Ale 7.5%, Jacobsen  ...                   NaN\n",
      "4              Donker Winter Ale 8.9%, Jacobsen  ...                   NaN\n",
      "...                                         ...  ...                   ...\n",
      "1994       Vegetable Fund Fond \"De Chef\", Knorr  ...                   NaN\n",
      "1995                     Vegetable broth, Knorr  ...                   NaN\n",
      "1996                    Bouillon chicken, Knorr  ...                   NaN\n",
      "1997                          Beef broth, Knorr  ...                   NaN\n",
      "1998                          Pork broth, Knorr  ...                   NaN\n",
      "\n",
      "[1999 rows x 24 columns]\n"
     ]
    }
   ],
   "execution_count": 19
  },
  {
   "id": "8f16474d-8720-46e3-9129-184ef8fb2891",
   "cell_type": "code",
   "source": [
    "# calculate completeness score\n",
    "def calc_comp_score(row):\n",
    "    points = 0\n",
    "    optional_fields = [\"Additives\", \"Dietary preferences\", \"Producer Information\", \"Brand\"]\n",
    "    for index, value in row.items():\n",
    "        if index in optional_fields:\n",
    "            pass\n",
    "        if pd.isna(value) or (isinstance(value, str) and value.strip() == \"\"):\n",
    "            pass\n",
    "        else:\n",
    "            points += 1\n",
    "    score = (points / (25 - len(optional_fields)) * 100)\n",
    "    return score\n",
    "    \n",
    "\n",
    "df['comp_score'] = df.apply(calc_comp_score, axis=1)\n",
    "\n",
    "print(df)"
   ],
   "metadata": {
    "trusted": true,
    "ExecuteTime": {
     "end_time": "2025-05-11T19:20:23.378064Z",
     "start_time": "2025-05-11T19:20:23.301963Z"
    }
   },
   "outputs": [
    {
     "name": "stdout",
     "output_type": "stream",
     "text": [
      "                                          Name   ...  comp_score\n",
      "0                              Noël, Grimbergen  ...   52.380952\n",
      "1                Blågårds Pilsner 5.1% organic.  ...   57.142857\n",
      "2                          Blanche 4.5%, Harboe  ...   57.142857\n",
      "3     Golden Naked Christmas Ale 7.5%, Jacobsen  ...   57.142857\n",
      "4              Donker Winter Ale 8.9%, Jacobsen  ...   57.142857\n",
      "...                                         ...  ...         ...\n",
      "1994       Vegetable Fund Fond \"De Chef\", Knorr  ...   52.380952\n",
      "1995                     Vegetable broth, Knorr  ...   85.714286\n",
      "1996                    Bouillon chicken, Knorr  ...   85.714286\n",
      "1997                          Beef broth, Knorr  ...   85.714286\n",
      "1998                          Pork broth, Knorr  ...   95.238095\n",
      "\n",
      "[1999 rows x 25 columns]\n"
     ]
    }
   ],
   "execution_count": 20
  },
  {
   "id": "21715a19-0671-465f-b3be-5bf7941d7926",
   "cell_type": "code",
   "source": [
    "# Filter rows where the comp_score is 100\n",
    "df_filtered = df[df['comp_score'] == 100.0]\n",
    "\n",
    "# Display the filtered DataFrame\n",
    "pd.set_option('display.max_rows', 60)\n",
    "print(df_filtered)"
   ],
   "metadata": {
    "trusted": true,
    "ExecuteTime": {
     "end_time": "2025-05-11T19:20:23.392618Z",
     "start_time": "2025-05-11T19:20:23.380078Z"
    }
   },
   "outputs": [
    {
     "name": "stdout",
     "output_type": "stream",
     "text": [
      "                                                  Name   ...  comp_score\n",
      "97                      Green Tuborg Sunset 4.6% 6-pack  ...       100.0\n",
      "100                            Juicy IPA 4.8%, Jacobsen  ...       100.0\n",
      "102                     Tuborg Classic eco. 4.6% 6-pack  ...       100.0\n",
      "114                         Tuborg raw eco. 4.5% 6-pack  ...       100.0\n",
      "119                              Christmas brew, Tuborg  ...       100.0\n",
      "141                  Wheat beer with passion 5.2%, Pift  ...       100.0\n",
      "443                          Christmas mulled wine 5.5%  ...       100.0\n",
      "700                   Oatmeal with apple & pear, Semper  ...       100.0\n",
      "754                            Spice buns, Møllens Brød  ...       100.0\n",
      "755                 Multi-core buns, Schulstad Levebrød  ...       100.0\n",
      "756                    Chiaboller, Schulstad Livelihood  ...       100.0\n",
      "758                              Yoghurt balls, Kohberg  ...       100.0\n",
      "759                             Porridge balls, Kohberg  ...       100.0\n",
      "760                              Sunshine buns, Kohberg  ...       100.0\n",
      "764                             Rye bread buns, Kohberg  ...       100.0\n",
      "765                            Rye mildew buns, Kohberg  ...       100.0\n",
      "766                Whole grain spice buns, Møllens Brød  ...       100.0\n",
      "779                            Boller Solstykker, Pågen  ...       100.0\n",
      "797             Rye bread sunflower, Schulstad Det Gode  ...       100.0\n",
      "800            Signature bread Gillelejehavn, Schulstad  ...       100.0\n",
      "801   Rye bread whole grain organic. Schulstad Livel...  ...       100.0\n",
      "804                 Schleswig Farmer's Bread, Schulstad  ...       100.0\n",
      "805                           Viking rye bread, Kohberg  ...       100.0\n",
      "806                      Masterpiece rye bread, Kohberg  ...       100.0\n",
      "807                         Hercules rye bread, Kohberg  ...       100.0\n",
      "808                     Bakers' best rye bread, Kohberg  ...       100.0\n",
      "814                        Sunflower rye bread, Kohberg  ...       100.0\n",
      "835                         Burger bun brioche, Hatting  ...       100.0\n",
      "836                        French Hotdog Bread, Hatting  ...       100.0\n",
      "841              Hot dog bread baked in butter, Kohberg  ...       100.0\n",
      "842                    Burger buns giant smash, Kohberg  ...       100.0\n",
      "844                         Sausage bread, Møllens Brød  ...       100.0\n",
      "845                            Burger bun, Møllens Brød  ...       100.0\n",
      "858                     Burger buns gluten-free, Semper  ...       100.0\n",
      "875                     Toast bread wheat, Møllens Brød  ...       100.0\n",
      "878             Multigrain sandwich, Schulstad Levebrød  ...       100.0\n",
      "879                      Potato sandwich bread, Kohberg  ...       100.0\n",
      "882        Focaccia with parsley & rosemary, Il Fornaio  ...       100.0\n",
      "918                               Carrot Cake, Dan Cake  ...       100.0\n",
      "1073                         Classic flatbread, Delpane  ...       100.0\n",
      "1082                   Pita bread Cypriot insp. Delpane  ...       100.0\n",
      "1234            Chocolate bar with coconut trio, Bounty  ...       100.0\n",
      "1253                                     Tappsy, Katjes  ...       100.0\n",
      "1351  Foam with strawberry flavor & dark chocolate, ...  ...       100.0\n",
      "1429                              Chocolate bar, Bounty  ...       100.0\n",
      "1484                              Chocolate bar, Bounty  ...       100.0\n",
      "1818               Dinner Kit Vegetarian lasagna, Knorr  ...       100.0\n",
      "1951                              Becel liquid original  ...       100.0\n",
      "1952               Spreadable Light with Omega 3, Becel  ...       100.0\n",
      "1987                        Broth with mushrooms, Knorr  ...       100.0\n",
      "\n",
      "[50 rows x 25 columns]\n"
     ]
    }
   ],
   "execution_count": 21
  }
 ]
}
